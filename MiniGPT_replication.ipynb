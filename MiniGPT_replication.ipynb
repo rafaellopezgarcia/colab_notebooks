{
  "nbformat": 4,
  "nbformat_minor": 0,
  "metadata": {
    "colab": {
      "provenance": [],
      "authorship_tag": "ABX9TyMZOtK75tBjTX7OVE6kGkpv",
      "include_colab_link": true
    },
    "kernelspec": {
      "name": "python3",
      "display_name": "Python 3"
    },
    "language_info": {
      "name": "python"
    }
  },
  "cells": [
    {
      "cell_type": "markdown",
      "metadata": {
        "id": "view-in-github",
        "colab_type": "text"
      },
      "source": [
        "<a href=\"https://colab.research.google.com/github/rafaellopezgarcia/colab_notebooks/blob/main/MiniGPT_replication.ipynb\" target=\"_parent\"><img src=\"https://colab.research.google.com/assets/colab-badge.svg\" alt=\"Open In Colab\"/></a>"
      ]
    },
    {
      "cell_type": "markdown",
      "source": [
        "# Mini GPT"
      ],
      "metadata": {
        "id": "JpdQ-mKdFOAS"
      }
    },
    {
      "cell_type": "code",
      "source": [
        "from pathlib import Path\n",
        "from tabulate import tabulate\n",
        "\n",
        "import torch"
      ],
      "metadata": {
        "id": "pWsuPkV4E6xd"
      },
      "execution_count": null,
      "outputs": []
    },
    {
      "cell_type": "markdown",
      "source": [
        "## Hyperparameters"
      ],
      "metadata": {
        "id": "XokyvxS3NMGa"
      }
    },
    {
      "cell_type": "code",
      "source": [
        "batch_size = 8\n",
        "block_size = 8"
      ],
      "metadata": {
        "id": "NsOHzFHGPH_-"
      },
      "execution_count": null,
      "outputs": []
    },
    {
      "cell_type": "markdown",
      "source": [
        "## Data"
      ],
      "metadata": {
        "id": "KDgKVYvUFN0N"
      }
    },
    {
      "cell_type": "code",
      "execution_count": null,
      "metadata": {
        "id": "9gm8TZ4WDdT1"
      },
      "outputs": [],
      "source": [
        "!wget https://raw.githubusercontent.com/karpathy/char-rnn/master/data/tinyshakespeare/input.txt"
      ]
    },
    {
      "cell_type": "code",
      "source": [
        "data = \"\"\n",
        "with open(Path('input.txt'), 'r') as tiny:\n",
        "   data = tiny.read()\n",
        "\n",
        "print(data[:500])\n",
        "\n",
        "dataset_size = len(data)\n",
        "training_set = data[:int(dataset_size*0.8)]\n",
        "test_set = data[int(dataset_size*0.8):]"
      ],
      "metadata": {
        "id": "PuLvkK_sDl8v"
      },
      "execution_count": null,
      "outputs": []
    },
    {
      "cell_type": "markdown",
      "source": [
        "## Encoder-Decoder"
      ],
      "metadata": {
        "id": "GoAl07Q5FVjJ"
      }
    },
    {
      "cell_type": "code",
      "source": [
        "characters = set(data)\n",
        "vocab_size = len(characters)\n",
        "dataset_size = len(data)\n",
        "\n",
        "stoi = {x: ix for ix, x in enumerate(characters)}\n",
        "itos = {ix: x for ix, x in enumerate(characters)}\n",
        "\n",
        "encode = lambda txt : [stoi[ch] for ch in txt]\n",
        "decode = lambda nms : [itos[n] for n in nms]\n",
        "example = decode(encode(data[:14]))\n",
        "print(''.join(example))\n",
        "\n",
        "#tokens = encode(data)\n",
        "etrainining_set = torch.tensor(encode(training_set))\n",
        "etest_set = torch.tensor(encode(test_set))"
      ],
      "metadata": {
        "id": "bUIh-_L9ECLs"
      },
      "execution_count": null,
      "outputs": []
    },
    {
      "cell_type": "markdown",
      "source": [
        "## Batches"
      ],
      "metadata": {
        "id": "G40kjTnINF9j"
      }
    },
    {
      "cell_type": "code",
      "source": [
        "# Example of an already decoded block\n",
        "x = training_set[0:batch_size]\n",
        "y = training_set[1:batch_size+1]\n",
        "table = []\n",
        "for ix in range(len(x)):\n",
        "  table.append([''.join(x[:ix+1]), ''.join(y[ix])])\n",
        "\n",
        "print(tabulate(table, headers=['context','target']))"
      ],
      "metadata": {
        "id": "ST5k0l9nZlsU"
      },
      "execution_count": null,
      "outputs": []
    },
    {
      "cell_type": "code",
      "source": [
        "torch.manual_seed(1337)\n",
        "\n",
        "\n",
        "def get_batch(split='train'):\n",
        "  data = etrainining_set if split=='train' else etest_set\n",
        "  ixs = torch.randint(0, len(data) - block_size, (batch_size,))\n",
        "\n",
        "  xb = torch.stack([data[ix:ix+block_size] for ix in ixs])\n",
        "  yb = torch.stack([data[ix+1:ix+block_size+1] for ix in ixs])\n",
        "  return xb, yb\n",
        "\n",
        "print()\n",
        "xb, yb = get_batch()\n",
        "table = []\n",
        "for ix in range(len(xb[0])):\n",
        "  print(f\"Context tensor: {xb[0][:ix+1].tolist()} | target: {yb[0][ix].item()}\")\n",
        "\n"
      ],
      "metadata": {
        "id": "7wfIZRnDFU08"
      },
      "execution_count": null,
      "outputs": []
    },
    {
      "cell_type": "code",
      "source": [],
      "metadata": {
        "id": "U8QChQcjPefs"
      },
      "execution_count": null,
      "outputs": []
    }
  ]
}