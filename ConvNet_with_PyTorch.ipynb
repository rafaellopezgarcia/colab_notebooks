{
  "nbformat": 4,
  "nbformat_minor": 0,
  "metadata": {
    "colab": {
      "provenance": [],
      "authorship_tag": "ABX9TyNqJXw9pIGYWROtgPyFU5b+",
      "include_colab_link": true
    },
    "kernelspec": {
      "name": "python3",
      "display_name": "Python 3"
    },
    "language_info": {
      "name": "python"
    }
  },
  "cells": [
    {
      "cell_type": "markdown",
      "metadata": {
        "id": "view-in-github",
        "colab_type": "text"
      },
      "source": [
        "<a href=\"https://colab.research.google.com/github/rafaellopezgarcia/colab_notebooks/blob/main/ConvNet_with_PyTorch.ipynb\" target=\"_parent\"><img src=\"https://colab.research.google.com/assets/colab-badge.svg\" alt=\"Open In Colab\"/></a>"
      ]
    },
    {
      "cell_type": "markdown",
      "source": [
        "## A Convolutional Neural Network"
      ],
      "metadata": {
        "id": "GobjVFzjrDxh"
      }
    },
    {
      "cell_type": "code",
      "source": [
        "import matplotlib.pyplot as plt\n",
        "import os\n",
        "import torch\n",
        "import torch.nn as nn\n",
        "import torch.nn.functional as F\n",
        "import torchvision\n",
        "\n",
        "from google.colab import drive\n",
        "from pathlib import Path\n",
        "from tabulate import tabulate\n",
        "from torch.utils.data import DataLoader\n",
        "from torchvision.transforms import functional as TF"
      ],
      "metadata": {
        "id": "_41UJmj1rnEg"
      },
      "execution_count": 8,
      "outputs": []
    },
    {
      "cell_type": "code",
      "source": [
        "drive.mount('/content/drive')\n",
        "FOLDERNAME = \"neural_networks/vanilla_convnet/\"\n",
        "FILENAME = \"cifar_net.pth\"\n",
        "PATH = \"/content/drive/My Drive/\" + FOLDERNAME + FILENAME"
      ],
      "metadata": {
        "colab": {
          "base_uri": "https://localhost:8080/"
        },
        "id": "6t2pdPvUg_Qr",
        "outputId": "73847ce0-4f87-4095-b11c-2a9f30e3f1a1"
      },
      "execution_count": 34,
      "outputs": [
        {
          "output_type": "stream",
          "name": "stdout",
          "text": [
            "Drive already mounted at /content/drive; to attempt to forcibly remount, call drive.mount(\"/content/drive\", force_remount=True).\n"
          ]
        }
      ]
    },
    {
      "cell_type": "markdown",
      "source": [
        "## Save/Load model"
      ],
      "metadata": {
        "id": "kUf-J9TPtmpa"
      }
    },
    {
      "cell_type": "code",
      "source": [
        "def save(model):\n",
        "  torch.save(model.state_dict(), Path(PATH))\n",
        "\n",
        "def load(model):\n",
        "  if os.path.exists(PATH):\n",
        "    print(f\"{PATH} exists\")\n",
        "    model.load_state_dict(torch.load(Path(PATH)))\n",
        "  else:\n",
        "    raise FileNotFoundError(\"Path does not exist\")"
      ],
      "metadata": {
        "id": "hrCsHntgqfzc"
      },
      "execution_count": 36,
      "outputs": []
    },
    {
      "cell_type": "markdown",
      "source": [
        "## Hyperparameters"
      ],
      "metadata": {
        "id": "kG1hCkGPrGIu"
      }
    },
    {
      "cell_type": "code",
      "source": [
        "batch_size = 4\n",
        "epochs = 9\n",
        "lr = 1e-3\n",
        "print_every = 1000"
      ],
      "metadata": {
        "id": "8cFLygeirtPB"
      },
      "execution_count": 2,
      "outputs": []
    },
    {
      "cell_type": "markdown",
      "source": [
        "## Dataset"
      ],
      "metadata": {
        "id": "wCPPZa6FrFl7"
      }
    },
    {
      "cell_type": "code",
      "source": [
        "transf = torchvision.transforms.Compose([\n",
        "    torchvision.transforms.ToTensor(),\n",
        "    torchvision.transforms.Normalize((0.5, 0.5, 0.5), (0.5, 0.5, 0.5))\n",
        "    ])\n",
        "\n",
        "mnist_train = torchvision.datasets.CIFAR10('./', download=True, train=True, transform=transf)\n",
        "mnist_test = torchvision.datasets.CIFAR10('./', download=True, train=False, transform=transf)\n",
        "labels =['airplane','automobile','bird','cat','deer','dog','frog','horse','ship','truck']\n",
        "mnist_traindl = DataLoader(mnist_train, batch_size)\n",
        "\n",
        "image_sz = mnist_test[0][0].shape\n",
        "dataset_props = {'train size': len(mnist_train), 'test size': len(mnist_test), 'image size': image_sz, 'pixels': image_sz[1]*image_sz[2], 'channels': image_sz[0]}\n",
        "for key, value in dataset_props.items():\n",
        "  print(f'{key}: {value}')"
      ],
      "metadata": {
        "colab": {
          "base_uri": "https://localhost:8080/"
        },
        "id": "bfDh0xePsA7b",
        "outputId": "919654d2-6f85-4e11-edd1-706eac7985d3"
      },
      "execution_count": 35,
      "outputs": [
        {
          "output_type": "stream",
          "name": "stdout",
          "text": [
            "Files already downloaded and verified\n",
            "Files already downloaded and verified\n",
            "train size: 50000\n",
            "test size: 10000\n",
            "image size: torch.Size([3, 32, 32])\n",
            "pixels: 1024\n",
            "channels: 3\n"
          ]
        }
      ]
    },
    {
      "cell_type": "markdown",
      "source": [
        "## Visualisation"
      ],
      "metadata": {
        "id": "CLP2GyzYuahm"
      }
    },
    {
      "cell_type": "code",
      "source": [
        "nxmpls = 8\n",
        "fig, axs = plt.subplots(1, nxmpls, figsize=(20,10))\n",
        "\n",
        "dataset_ixs = torch.randint(0, len(mnist_test), (nxmpls,))\n",
        "for ix in range(nxmpls):\n",
        "  x, y = mnist_test[dataset_ixs[ix]]\n",
        "  x = x / 2 + 0.5\n",
        "  img = TF.to_pil_image(x)\n",
        "  axs[ix].imshow(img)\n",
        "  axs[ix].set_xticks([])\n",
        "  axs[ix].set_yticks([])\n",
        "  axs[ix].set_title(labels[y])\n"
      ],
      "metadata": {
        "colab": {
          "base_uri": "https://localhost:8080/",
          "height": 224
        },
        "id": "FvjUjs2tuOcV",
        "outputId": "405d1d7b-ae06-4917-86bf-3f222c4cd228"
      },
      "execution_count": 4,
      "outputs": [
        {
          "output_type": "display_data",
          "data": {
            "text/plain": [
              "<Figure size 2000x1000 with 8 Axes>"
            ],
            "image/png": "[encoded data removed]"
          },
          "metadata": {}
        }
      ]
    },
    {
      "cell_type": "markdown",
      "source": [
        "## Evaluation"
      ],
      "metadata": {
        "id": "9rFV2PC_9HNY"
      }
    },
    {
      "cell_type": "code",
      "source": [
        "def accuracy(logits, y):\n",
        "  pred = torch.argmax(logits, -1)\n",
        "  print(logits.shape, y.shape)\n",
        "  return torch.mean((pred==y).to(torch.float))"
      ],
      "metadata": {
        "id": "BV0TZqUx9H_U"
      },
      "execution_count": 5,
      "outputs": []
    },
    {
      "cell_type": "code",
      "source": [
        "def per_class_accuracy(logits, y):\n",
        "  pred = torch.argmax(logits, -1)\n",
        "  pred_one_hot = F.one_hot(pred, 10)\n",
        "  y_one_hot = F.one_hot(y, 10)\n",
        "  tp = pred_one_hot * y_one_hot\n",
        "  accs = torch.sum(tp, 0) / torch.sum(pred_one_hot, 0)\n",
        "  print(\"Per class accuracy values\")\n",
        "  d = [[labels[ix], accs[ix]] for ix in range(len(labels))]\n",
        "  print(tabulate(d, headers=[\"Label\", \"Accuracy\"], floatfmt=\".2f\"))"
      ],
      "metadata": {
        "id": "m2jIjHPKDKmE"
      },
      "execution_count": 6,
      "outputs": []
    },
    {
      "cell_type": "markdown",
      "source": [
        "## Model"
      ],
      "metadata": {
        "id": "PTZ8OETerGsr"
      }
    },
    {
      "cell_type": "code",
      "source": [
        "class ConvNet(nn.Module):\n",
        "  def __init__(self):\n",
        "    super().__init__()\n",
        "    self.conv1 = nn.Conv2d(3, 10, 6, 2) # in_channels, out_channels, K, S, P\n",
        "    self.conv2 = nn.Conv2d(10, 8, 4, 1)\n",
        "    self.conv3 = nn.Conv2d(8, 8, 4, 1)\n",
        "    self.linear1 = nn.Linear(512, 300)\n",
        "    self.linear2 = nn.Linear(300, 10)\n",
        "\n",
        "  def forward(self, x, y=None):\n",
        "    x = F.relu(self.conv1(x))\n",
        "    x = F.relu(self.conv2(x))\n",
        "    x = F.relu(self.conv3(x))\n",
        "    x = torch.flatten(x, 1)\n",
        "    x = F.relu(self.linear1(x))\n",
        "    x = self.linear2(x)\n",
        "\n",
        "    if y is None:\n",
        "      return x\n",
        "    loss = F.cross_entropy(x, y)\n",
        "    return x, loss\n",
        "\n",
        "  def apply_1conv(self, x):\n",
        "    x = F.relu(self.conv1(x))\n",
        "    return x\n",
        "\n",
        "  def apply_2convs(self, x):\n",
        "    x = F.relu(self.conv1(x))\n",
        "    x = F.relu(self.conv2(x))\n",
        "    return x\n",
        "\n",
        "  def apply_3convs(self, x):\n",
        "    x = F.relu(self.conv1(x))\n",
        "    x = F.relu(self.conv2(x))\n",
        "    x = F.relu(self.conv3(x))\n",
        "    return x\n",
        "\n",
        "model = ConvNet()\n",
        "load(model)"
      ],
      "metadata": {
        "id": "9c8_i3Cw0kz8",
        "colab": {
          "base_uri": "https://localhost:8080/"
        },
        "outputId": "465b1e74-c6c8-4588-aec9-90a9c4aeda89"
      },
      "execution_count": 37,
      "outputs": [
        {
          "output_type": "stream",
          "name": "stdout",
          "text": [
            "/content/drive/My Drive/neural_networks/vanilla_convnet/cifar_net.pth exists\n"
          ]
        }
      ]
    },
    {
      "cell_type": "code",
      "source": [
        "def is_valid(W, K, S=1, P=0):\n",
        "  out = (W - K + 2*P) / S + 1\n",
        "  return out, out.is_integer()\n",
        "\n",
        "layers = [[6, 2, 0], [4, 1, 0], [4, 1, 0]]\n",
        "W = 32\n",
        "for layer in layers:\n",
        "  K, S, P = layer\n",
        "  W, state = is_valid(W, K, S, P)\n",
        "  print(W, state)\n",
        "print(W**2*8)"
      ],
      "metadata": {
        "colab": {
          "base_uri": "https://localhost:8080/"
        },
        "id": "0mS5fVSv2oFT",
        "outputId": "67d96e03-26f0-4945-f8aa-aaf9f9b1bed9"
      },
      "execution_count": null,
      "outputs": [
        {
          "output_type": "stream",
          "name": "stdout",
          "text": [
            "14.0 True\n",
            "11.0 True\n",
            "8.0 True\n",
            "512.0\n"
          ]
        }
      ]
    },
    {
      "cell_type": "markdown",
      "source": [
        "## Learning"
      ],
      "metadata": {
        "id": "U-s3EYqCrOay"
      }
    },
    {
      "cell_type": "code",
      "source": [
        "def train(model):\n",
        "  opt = torch.optim.SGD(model.parameters(), lr=0.001, momentum=0.9)\n",
        "\n",
        "  running_loss = 0.0\n",
        "  for epoch in range(epochs):\n",
        "    model.train()\n",
        "    for ix, (xb, yb) in enumerate(mnist_traindl):\n",
        "      opt.zero_grad()\n",
        "      logits, loss = model.forward(xb, yb)\n",
        "      loss.backward()\n",
        "      opt.step()\n",
        "      running_loss += loss.item()\n",
        "      if ix % print_every == print_every-1:\n",
        "        print(f'[{epoch + 1}, {ix + 1:5d}] loss: {running_loss / print_every:.3f} {loss}')\n",
        "        running_loss = 0.0\n",
        "\n",
        "#train(model)"
      ],
      "metadata": {
        "id": "vOe-jN9U-U9s"
      },
      "execution_count": 13,
      "outputs": []
    },
    {
      "cell_type": "code",
      "source": [
        "test_loader = DataLoader(mnist_test, len(mnist_test))\n",
        "x, y = next(iter(test_loader))\n",
        "pred =model.forward(x)\n",
        "acc = accuracy(pred, y)\n",
        "print(acc)\n",
        "per_class_accuracy(pred, y)"
      ],
      "metadata": {
        "colab": {
          "base_uri": "https://localhost:8080/"
        },
        "id": "jKZKYF4cB3Ot",
        "outputId": "e537b8a9-ebf8-4d0a-90b6-c17c11950871"
      },
      "execution_count": 20,
      "outputs": [
        {
          "output_type": "stream",
          "name": "stdout",
          "text": [
            "torch.Size([10000, 10]) torch.Size([10000])\n",
            "tensor(0.5142)\n",
            "Per class accuracy values\n",
            "Label         Accuracy\n",
            "----------  ----------\n",
            "airplane          0.67\n",
            "automobile        0.67\n",
            "bird              0.48\n",
            "cat               0.37\n",
            "deer              0.46\n",
            "dog               0.51\n",
            "frog              0.61\n",
            "horse             0.47\n",
            "ship              0.52\n",
            "truck             0.51\n"
          ]
        }
      ]
    },
    {
      "cell_type": "code",
      "source": [],
      "metadata": {
        "id": "m7qN40ZugUyE"
      },
      "execution_count": 15,
      "outputs": []
    },
    {
      "cell_type": "markdown",
      "source": [
        "## Visualise filters"
      ],
      "metadata": {
        "id": "n96mlXztiatu"
      }
    },
    {
      "cell_type": "code",
      "source": [],
      "metadata": {
        "id": "EPe6yMRjrrFz"
      },
      "execution_count": null,
      "outputs": []
    }
  ]
}