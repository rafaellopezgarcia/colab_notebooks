{
  "nbformat": 4,
  "nbformat_minor": 0,
  "metadata": {
    "colab": {
      "provenance": [],
      "authorship_tag": "ABX9TyM1r0IewQOvH9MRk/uSsEsr",
      "include_colab_link": true
    },
    "kernelspec": {
      "name": "python3",
      "display_name": "Python 3"
    },
    "language_info": {
      "name": "python"
    }
  },
  "cells": [
    {
      "cell_type": "markdown",
      "metadata": {
        "id": "view-in-github",
        "colab_type": "text"
      },
      "source": [
        "<a href=\"https://colab.research.google.com/github/rafaellopezgarcia/colab_notebooks/blob/main/numpy_pytorch_differences_and_similarities.ipynb\" target=\"_parent\"><img src=\"https://colab.research.google.com/assets/colab-badge.svg\" alt=\"Open In Colab\"/></a>"
      ]
    },
    {
      "cell_type": "markdown",
      "source": [
        "# NumPy and PyTorch. Differences and similarities."
      ],
      "metadata": {
        "id": "IKCen3DF6GWc"
      }
    },
    {
      "cell_type": "markdown",
      "source": [
        "## Reverse torch and numpy\n",
        "\n",
        "\n",
        "- `[::-1]` reversed Python lists and NumPy arrays\n",
        "- `[::-1]` does not work with PyTorch\n",
        "\n",
        "- `reverse` returns an iterator object for Python lists and NumPy arrays\n",
        "- `reverse` returns the inverted one-dimensional tensor for PyTorch tensors\n",
        "\n",
        "- `np.flip` and `torch.flip` are able to reverse a one-dimensional tensor as well\n",
        "- `torch.flip` requires to specify the `dims` parameter"
      ],
      "metadata": {
        "id": "XSmWrTTVxUra"
      }
    },
    {
      "cell_type": "code",
      "source": [
        "numbers = [1, 2 , 3, 4, 5]\n",
        "np_numbers = np.array(numbers)\n",
        "torch_numbers = torch.tensor(numbers)\n",
        "\n",
        "print(numbers)\n",
        "print(np_numbers)\n",
        "print(torch_numbers)\n",
        "\n",
        "print(\"Reverse with slicing\")\n",
        "print(numbers[::-1])\n",
        "print(np_numbers[::-1])\n",
        "#print(torch_numbers[::-1]) Does not work\n",
        "\n",
        "print(\"Reverse with reversed\")\n",
        "print(list(reversed(numbers)))\n",
        "print(list(reversed(np_numbers)))\n",
        "print(reversed(torch_numbers))\n",
        "\n",
        "print(\"Reverse with flip\")\n",
        "print(np.flip(np_numbers))\n",
        "print(torch.flip(torch_numbers, dims=[0]))\n",
        "\n",
        "\n",
        "\n",
        "#print(torch_numbers[::-1]) Does not work"
      ],
      "metadata": {
        "colab": {
          "base_uri": "https://localhost:8080/"
        },
        "id": "KRjfgBC3xX2d",
        "outputId": "bb76e483-0e6d-47a5-fce0-bf76ffb65f24"
      },
      "execution_count": null,
      "outputs": [
        {
          "output_type": "stream",
          "name": "stdout",
          "text": [
            "[1, 2, 3, 4, 5]\n",
            "[1 2 3 4 5]\n",
            "tensor([1, 2, 3, 4, 5])\n",
            "Reverse with slicing\n",
            "[5, 4, 3, 2, 1]\n",
            "[5 4 3 2 1]\n",
            "Reverse with reversed\n",
            "[5, 4, 3, 2, 1]\n",
            "[5, 4, 3, 2, 1]\n",
            "tensor([5, 4, 3, 2, 1])\n",
            "Reverse with flip\n",
            "[5 4 3 2 1]\n",
            "tensor([5, 4, 3, 2, 1])\n"
          ]
        }
      ]
    },
    {
      "cell_type": "markdown",
      "source": [
        "## Creating one-dimensional array/tensor from 1 to n"
      ],
      "metadata": {
        "id": "yeFlY5Gw1YCW"
      }
    },
    {
      "cell_type": "code",
      "source": [
        "numbers = list(range(0, 6))\n",
        "np_numbers = np.arange(0, 6)\n",
        "torch_numbers = torch.arange(0, 6)\n",
        "\n",
        "print(numbers)\n",
        "print(np_numbers)\n",
        "print(torch_numbers)\n"
      ],
      "metadata": {
        "colab": {
          "base_uri": "https://localhost:8080/"
        },
        "id": "S3tizti81gQa",
        "outputId": "365389f6-19ae-4248-fd0a-f04f932d1f1f"
      },
      "execution_count": null,
      "outputs": [
        {
          "output_type": "stream",
          "name": "stdout",
          "text": [
            "[0, 1, 2, 3, 4, 5]\n",
            "[0 1 2 3 4 5]\n",
            "tensor([0, 1, 2, 3, 4, 5])\n"
          ]
        }
      ]
    },
    {
      "cell_type": "markdown",
      "source": [
        "## Cumulative sum\n",
        "\n",
        "- `np.cumsum` and `torch.cumsum` compute the cumulative sum\n",
        "- `torch.cumsum` requires to specify the dimension over which the cumulative sum is computed"
      ],
      "metadata": {
        "id": "lOmIsXZl0EUH"
      }
    },
    {
      "cell_type": "code",
      "source": [
        "\n",
        "\n",
        "np_numbers_cumsum = np.cumsum(np_numbers)\n",
        "torch_numbers_cumsum = torch.cumsum(torch_numbers, dim=0)\n",
        "\n",
        "print(\"Cumulative sum\")\n",
        "print(np_numbers_cumsum)\n",
        "print(torch_numbers_cumsum)\n",
        "\n"
      ],
      "metadata": {
        "colab": {
          "base_uri": "https://localhost:8080/"
        },
        "id": "2-NjWbOVvEKj",
        "outputId": "e28fdb70-6f37-4966-d014-8397ef808578"
      },
      "execution_count": null,
      "outputs": [
        {
          "output_type": "stream",
          "name": "stdout",
          "text": [
            "[0, 1, 2, 3, 4, 5]\n",
            "[0 1 2 3 4 5]\n",
            "tensor([0, 1, 2, 3, 4, 5])\n",
            "Cumulative sum\n",
            "[ 0  1  3  6 10 15]\n",
            "tensor([ 0,  1,  3,  6, 10, 15])\n"
          ]
        }
      ]
    },
    {
      "cell_type": "markdown",
      "source": [
        "## Random\n",
        "\n",
        "- `np.random.seed` to manually specify a random seed in NumPy\n",
        "- `torch.manual_seed` to manually specify a random seed in PyTorch\n",
        "\n",
        "- `np.random.randn` to create random numbers with NumPy\n",
        "- `torch.randn` to create random numbers with PyTorch\n",
        "\n",
        "- `np.random.randint` to create random integers with NumPy\n",
        "- `torch.randint` to create random integers with PyTorch"
      ],
      "metadata": {
        "id": "riv9Lcya1po5"
      }
    },
    {
      "cell_type": "code",
      "source": [
        "torch.manual_seed(1336)\n",
        "np.random.seed(1336)\n",
        "\n",
        "np_random_numbers = np.random.randn(10)\n",
        "torch_random_numbers = torch.randn(10)\n",
        "\n",
        "print(np_random_numbers)\n",
        "print(torch_random_numbers)\n",
        "\n",
        "np_random_integers = np.random.randint(0, 10, [10])\n",
        "torch_random_integers = torch.randint(0, 10, (10,))\n",
        "\n",
        "print(np_random_integers)\n",
        "print(torch_random_integers)"
      ],
      "metadata": {
        "colab": {
          "base_uri": "https://localhost:8080/"
        },
        "id": "JiFunW5J1VXs",
        "outputId": "761bdf52-6188-4876-c27f-4b4e4a44f850"
      },
      "execution_count": null,
      "outputs": [
        {
          "output_type": "stream",
          "name": "stdout",
          "text": [
            "[ 1.04847236  0.99436432 -0.11980863  2.24886822 -0.01000265  1.64555138\n",
            " -2.13381788  0.65259954  1.27896194  1.13448778]\n",
            "tensor([-0.8234,  0.8039,  1.6267,  0.9930, -0.1023,  0.7109,  0.0594, -1.4874,\n",
            "        -0.9464,  1.6533])\n",
            "[8 9 2 3 3 6 1 8 6 3]\n",
            "tensor([5, 3, 2, 4, 0, 2, 3, 3, 2, 0])\n"
          ]
        }
      ]
    }
  ]
}