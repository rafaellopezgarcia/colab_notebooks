{
  "nbformat": 4,
  "nbformat_minor": 0,
  "metadata": {
    "colab": {
      "provenance": [],
      "authorship_tag": "ABX9TyMLEun1u0UWoPSdp5yoV9sM",
      "include_colab_link": true
    },
    "kernelspec": {
      "name": "python3",
      "display_name": "Python 3"
    },
    "language_info": {
      "name": "python"
    }
  },
  "cells": [
    {
      "cell_type": "markdown",
      "metadata": {
        "id": "view-in-github",
        "colab_type": "text"
      },
      "source": [
        "<a href=\"https://colab.research.google.com/github/rafaellopezgarcia/colab_notebooks/blob/main/ConvNet.ipynb\" target=\"_parent\"><img src=\"https://colab.research.google.com/assets/colab-badge.svg\" alt=\"Open In Colab\"/></a>"
      ]
    },
    {
      "cell_type": "markdown",
      "source": [
        "## Data"
      ],
      "metadata": {
        "id": "u1kVxL6v67in"
      }
    },
    {
      "cell_type": "code",
      "execution_count": 58,
      "metadata": {
        "id": "e5XoPNlBsi11"
      },
      "outputs": [],
      "source": [
        "from google.colab import drive\n",
        "from tabulate import tabulate\n",
        "import torch\n",
        "import torch.nn as nn\n",
        "import torch.nn.functional as F\n",
        "from torch.utils.data import DataLoader, Dataset\n",
        "import torchvision\n",
        "import torchvision.transforms.v2 as v2\n",
        "import matplotlib.pyplot as plt"
      ]
    },
    {
      "cell_type": "code",
      "source": [
        "drive.mount('/content/drive')"
      ],
      "metadata": {
        "colab": {
          "base_uri": "https://localhost:8080/"
        },
        "id": "4M1n_vRZtrGP",
        "outputId": "0de3208b-d4d2-472b-8f87-4292077e24eb"
      },
      "execution_count": 2,
      "outputs": [
        {
          "output_type": "stream",
          "name": "stdout",
          "text": [
            "Mounted at /content/drive\n"
          ]
        }
      ]
    },
    {
      "cell_type": "code",
      "source": [
        "trnsf = v2.Compose([\n",
        "    v2.PILToTensor(),\n",
        "    v2.RandomHorizontalFlip(),\n",
        "    v2.ToDtype(torch.float32, scale=True),\n",
        "    v2.Normalize(mean=(0.5,0.5,0.5), std=(0.2,0.2,0.2))\n",
        "])\n",
        "\n",
        "trainvalset = torchvision.datasets.CIFAR10('./', download=True, transform=trnsf)\n",
        "testset = torchvision.datasets.CIFAR10('./', train=False, download=True, transform=trnsf)\n",
        "\n",
        "labels = ['airplane', 'automobile', 'bird', 'cat', 'deer', 'dog', 'frog', 'horse', 'ship', 'truck']"
      ],
      "metadata": {
        "colab": {
          "base_uri": "https://localhost:8080/"
        },
        "id": "Q0oTWQ7FtkQp",
        "outputId": "ac71ce0f-596b-494c-e35b-9df33c0a5329"
      },
      "execution_count": 3,
      "outputs": [
        {
          "output_type": "stream",
          "name": "stdout",
          "text": [
            "Downloading https://www.cs.toronto.edu/~kriz/cifar-10-python.tar.gz to ./cifar-10-python.tar.gz\n"
          ]
        },
        {
          "output_type": "stream",
          "name": "stderr",
          "text": [
            "100%|██████████| 170498071/170498071 [00:01<00:00, 105776170.03it/s]\n"
          ]
        },
        {
          "output_type": "stream",
          "name": "stdout",
          "text": [
            "Extracting ./cifar-10-python.tar.gz to ./\n",
            "Files already downloaded and verified\n"
          ]
        }
      ]
    },
    {
      "cell_type": "code",
      "source": [
        "trainvalset[1][0].shape"
      ],
      "metadata": {
        "colab": {
          "base_uri": "https://localhost:8080/"
        },
        "id": "lACGAwklxOXQ",
        "outputId": "31656d5e-685f-4661-c93e-de3503f69c76"
      },
      "execution_count": 4,
      "outputs": [
        {
          "output_type": "execute_result",
          "data": {
            "text/plain": [
              "torch.Size([3, 32, 32])"
            ]
          },
          "metadata": {},
          "execution_count": 4
        }
      ]
    },
    {
      "cell_type": "code",
      "source": [
        "nimgs = 8\n",
        "fig, axs = plt.subplots(1, nimgs, figsize=(15,10))\n",
        "\n",
        "ixs = torch.randint(0, len(trainvalset), (nimgs,))\n",
        "for plot_ix, img_ix in enumerate(ixs):\n",
        "  x, y = trainvalset[img_ix]\n",
        "  x = x * 0.2 + 0.5\n",
        "  x = v2.functional.to_pil_image(x)\n",
        "  axs[plot_ix].imshow(x)\n",
        "  axs[plot_ix].set_xticks([])\n",
        "  axs[plot_ix].set_yticks([])\n",
        "  axs[plot_ix].set_title(labels[y])"
      ],
      "metadata": {
        "colab": {
          "base_uri": "https://localhost:8080/",
          "height": 183
        },
        "id": "Da2ROCp-t99O",
        "outputId": "ced81c69-fed3-4053-fd3e-ec623cb63b67"
      },
      "execution_count": 5,
      "outputs": [
        {
          "output_type": "display_data",
          "data": {
            "text/plain": [
              "<Figure size 1500x1000 with 8 Axes>"
            ],
            "image/png": "[encoded data removed]"
          },
          "metadata": {}
        }
      ]
    },
    {
      "cell_type": "code",
      "source": [
        "class CifarDataset(Dataset):\n",
        "  def __init__(self, trainset, split=\"train\"):\n",
        "    self.dataset = trainset\n",
        "    self.split = split\n",
        "    self.offset = 0\n",
        "    if split != \"train\":\n",
        "      self.offset = len(self.dataset) * (0.9)\n",
        "\n",
        "  def __len__(self):\n",
        "    if self.split == \"train\":\n",
        "      return int(len(self.dataset) * 0.9)\n",
        "    else:\n",
        "      return int(len(self.dataset) * 0.1)\n",
        "\n",
        "  def __getitem__(self, ix):\n",
        "    if self.split == \"train\":\n",
        "      return self.dataset[ix]\n",
        "    else:\n",
        "      return self.dataset[ix+self.offset]"
      ],
      "metadata": {
        "id": "X4OBK5daMPSg"
      },
      "execution_count": 6,
      "outputs": []
    },
    {
      "cell_type": "code",
      "source": [
        "valset = CifarDataset(trainvalset, split=\"val\")\n",
        "trainset = CifarDataset(trainvalset, split=\"train\")\n",
        "\n",
        "print(f\"Size train dataset {int(len(trainvalset)*0.9)}\")\n",
        "print(f\"Size validation dataset {int(len(trainvalset)*0.1)}\")\n",
        "print(f\"Size test dataset {len(testset)}\")"
      ],
      "metadata": {
        "colab": {
          "base_uri": "https://localhost:8080/"
        },
        "id": "W9KQS2DaMTLX",
        "outputId": "865fd49d-09cf-4235-d6bf-4535be43660f"
      },
      "execution_count": 7,
      "outputs": [
        {
          "output_type": "stream",
          "name": "stdout",
          "text": [
            "Size train dataset 45000\n",
            "Size validation dataset 5000\n",
            "Size test dataset 10000\n"
          ]
        }
      ]
    },
    {
      "cell_type": "code",
      "source": [
        "batch_size = 8\n",
        "train_dl = DataLoader(trainset, batch_size=batch_size, shuffle=True)\n",
        "val_dl = DataLoader(trainset, batch_size=int(len(trainvalset)*0.1), shuffle=True)"
      ],
      "metadata": {
        "id": "igSXCJGT5K5_"
      },
      "execution_count": 8,
      "outputs": []
    },
    {
      "cell_type": "markdown",
      "source": [
        "## Model"
      ],
      "metadata": {
        "id": "w294nbga64gR"
      }
    },
    {
      "cell_type": "code",
      "source": [
        "class ConvNet(nn.Module):\n",
        "  def __init__(self):\n",
        "    super().__init__()\n",
        "    self.conv1 = nn.Conv2d(3, 10, 4, 2) # in channels, out channels, K, S, P\n",
        "    self.conv2 = nn.Conv2d(10, 10, 4, 1)\n",
        "    self.conv3 = nn.Conv2d(10, 10, 3, 1)\n",
        "    self.maxpool = nn.MaxPool2d(2)\n",
        "    self.linear1 = nn.Linear(250, 600)\n",
        "    self.linear2 = nn.Linear(600, 10)\n",
        "\n",
        "  def forward(self, x, y=None):\n",
        "    x = F.relu(self.conv1(x))\n",
        "    x = F.relu(self.conv2(x))\n",
        "    x = F.relu(self.conv3(x))\n",
        "    x = self.maxpool(x)\n",
        "    x = torch.flatten(x, 1)\n",
        "    x = F.relu(self.linear1(x))\n",
        "    x = self.linear2(x)\n",
        "\n",
        "    if y is None:\n",
        "      return x\n",
        "    loss = F.cross_entropy(x, y)\n",
        "    return x, loss\n",
        "\n",
        "model = ConvNet()\n",
        "x, y = next(iter(train_dl))\n",
        "out, loss = model.forward(x, y)"
      ],
      "metadata": {
        "id": "Z8efgM8L6upi"
      },
      "execution_count": 9,
      "outputs": []
    },
    {
      "cell_type": "code",
      "source": [
        "def update_width(Win, K, S, P):\n",
        "  Wout = (Win-K+2*P) / S + 1\n",
        "  return Wout\n",
        "\n",
        "Wout = update_width(32, 4, 2, 0)\n",
        "print(Wout)\n",
        "Wout = update_width(Wout, 4, 1, 0)\n",
        "print(Wout)\n",
        "Wout = update_width(Wout, 3, 1, 0)\n",
        "print(Wout)"
      ],
      "metadata": {
        "colab": {
          "base_uri": "https://localhost:8080/"
        },
        "id": "rvih-mVe-EPL",
        "outputId": "db920485-16ad-4a0b-c87d-e119baac64af"
      },
      "execution_count": 10,
      "outputs": [
        {
          "output_type": "stream",
          "name": "stdout",
          "text": [
            "15.0\n",
            "12.0\n",
            "10.0\n"
          ]
        }
      ]
    },
    {
      "cell_type": "markdown",
      "source": [
        "## Training"
      ],
      "metadata": {
        "id": "LQDUZ3wjRDkv"
      }
    },
    {
      "cell_type": "code",
      "source": [
        "# Hyper-parameters\n",
        "lr = 1e-3\n",
        "epochs = 3\n",
        "print_every = 1000\n",
        "iterations = 30000\n",
        "#batch_size = 8 (define above)"
      ],
      "metadata": {
        "id": "vhGFEEKXRRt-"
      },
      "execution_count": 66,
      "outputs": []
    },
    {
      "cell_type": "code",
      "source": [
        "def train(model):\n",
        "  opt = torch.optim.SGD(model.parameters(), lr, 0.9)\n",
        "\n",
        "  it = 0\n",
        "  avg_loss = 0\n",
        "  for epoch in range(epochs):\n",
        "    for xb, yb in train_dl:\n",
        "      opt.zero_grad()\n",
        "      logits, loss = model(xb, yb)\n",
        "      loss.backward()\n",
        "      opt.step()\n",
        "      avg_loss += loss\n",
        "      if (it+1)%print_every == 0:\n",
        "        with torch.no_grad():\n",
        "          xv, yv = next(iter(val_dl))\n",
        "          _, val_loss = model(xv, yv)\n",
        "          print(f\"{it}/{iterations} loss: {avg_loss/print_every}, val loss {val_loss}\")\n",
        "          avg_loss = 0\n",
        "      it+=1\n",
        "\n",
        "train(model)\n"
      ],
      "metadata": {
        "colab": {
          "base_uri": "https://localhost:8080/"
        },
        "id": "2kLy5uw--gH_",
        "outputId": "ed3e5a60-e114-4415-8cae-395862c8d22e"
      },
      "execution_count": 11,
      "outputs": [
        {
          "output_type": "stream",
          "name": "stdout",
          "text": [
            "999/30000 loss: 2.196967363357544, val loss 2.0618274211883545\n",
            "1999/30000 loss: 1.8996012210845947, val loss 1.7732197046279907\n",
            "2999/30000 loss: 1.7005261182785034, val loss 1.6771169900894165\n",
            "3999/30000 loss: 1.5898735523223877, val loss 1.5176244974136353\n",
            "4999/30000 loss: 1.528071403503418, val loss 1.5267622470855713\n"
          ]
        }
      ]
    },
    {
      "cell_type": "markdown",
      "source": [
        "### Save model"
      ],
      "metadata": {
        "id": "mSDaap_eSp9y"
      }
    },
    {
      "cell_type": "code",
      "source": [
        "torch.save(model.state_dict(), '/content/drive/My Drive/neural_networks/models/cifar_convnet.pt')"
      ],
      "metadata": {
        "id": "ugvX-ClJSn1o"
      },
      "execution_count": 68,
      "outputs": []
    },
    {
      "cell_type": "markdown",
      "source": [
        "## Evaluation"
      ],
      "metadata": {
        "id": "5wcqAoBoRFxl"
      }
    },
    {
      "cell_type": "code",
      "source": [
        "@torch.no_grad()\n",
        "def evaluation(model, x, y):\n",
        "  torch.set_printoptions(precision=2)\n",
        "  logits = model.forward(x)\n",
        "  scores = F.softmax(logits, 1)\n",
        "  predictions = torch.argmax(scores, -1)\n",
        "  predictions = F.one_hot(predictions)\n",
        "  y = F.one_hot(y)\n",
        "  accs = torch.sum(predictions * y, 0) / torch.sum(y, 0)\n",
        "  acc = torch.sum(predictions * y) / len(y)\n",
        "\n",
        "  out = [[labels[ix], accs[ix]] for ix in range(len(accs))]\n",
        "  out.append([\"TOTAL\", acc])\n",
        "  print(tabulate(out, headers=[\"Label\", \"Accuracy\"]))\n",
        "\n",
        "test_dl = DataLoader(testset, len(testset))\n",
        "x, y = next(iter(test_dl))\n",
        "evaluation(model, x, y)"
      ],
      "metadata": {
        "colab": {
          "base_uri": "https://localhost:8080/"
        },
        "id": "JjVmH14TDY4A",
        "outputId": "42596751-34c2-4fc7-af90-9fad562e7e32"
      },
      "execution_count": 65,
      "outputs": [
        {
          "output_type": "stream",
          "name": "stdout",
          "text": [
            "label         accuracy\n",
            "----------  ----------\n",
            "airplane        0.449\n",
            "automobile      0.551\n",
            "bird            0.285\n",
            "cat             0.55\n",
            "deer            0.181\n",
            "dog             0.301\n",
            "frog            0.614\n",
            "horse           0.642\n",
            "ship            0.495\n",
            "truck           0.656\n",
            "TOTAL           0.4724\n"
          ]
        }
      ]
    },
    {
      "cell_type": "code",
      "source": [
        "### S"
      ],
      "metadata": {
        "colab": {
          "base_uri": "https://localhost:8080/"
        },
        "id": "hKuYyoJ9Gqrq",
        "outputId": "e0aa11fd-cd67-4886-ed85-29e340e9a003"
      },
      "execution_count": 194,
      "outputs": [
        {
          "output_type": "stream",
          "name": "stdout",
          "text": [
            "0 5000\n"
          ]
        }
      ]
    },
    {
      "cell_type": "code",
      "source": [],
      "metadata": {
        "id": "nnoB-yTWLjAk"
      },
      "execution_count": null,
      "outputs": []
    }
  ]
}